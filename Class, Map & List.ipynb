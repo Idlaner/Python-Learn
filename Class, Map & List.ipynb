{
 "cells": [
  {
   "cell_type": "markdown",
   "id": "6c2270b0",
   "metadata": {},
   "source": [
    "# Class"
   ]
  },
  {
   "cell_type": "code",
   "execution_count": 1,
   "id": "8e1858ed",
   "metadata": {},
   "outputs": [],
   "source": [
    "# Create a class\n",
    "class House:\n",
    "    # Class variable\n",
    "    house_type = \"Rented House\"\n",
    "    # Constructor\n",
    "    def __init__(self, floors, rooms, prices):\n",
    "        self.floors = floors\n",
    "        self.rooms = rooms\n",
    "        self.prices = prices\n",
    "        "
   ]
  },
  {
   "cell_type": "code",
   "execution_count": 4,
   "id": "794f8568",
   "metadata": {},
   "outputs": [],
   "source": [
    "home1 = House(1, 3, 25000)"
   ]
  },
  {
   "cell_type": "code",
   "execution_count": 6,
   "id": "733fde92",
   "metadata": {},
   "outputs": [
    {
     "data": {
      "text/plain": [
       "__main__.House"
      ]
     },
     "execution_count": 6,
     "metadata": {},
     "output_type": "execute_result"
    }
   ],
   "source": [
    "type(home1)"
   ]
  },
  {
   "cell_type": "code",
   "execution_count": 10,
   "id": "4f851619",
   "metadata": {},
   "outputs": [],
   "source": [
    "home1.prices = 30000"
   ]
  },
  {
   "cell_type": "code",
   "execution_count": 11,
   "id": "3ed732d1",
   "metadata": {},
   "outputs": [
    {
     "data": {
      "text/plain": [
       "30000"
      ]
     },
     "execution_count": 11,
     "metadata": {},
     "output_type": "execute_result"
    }
   ],
   "source": [
    "home1.prices"
   ]
  },
  {
   "cell_type": "code",
   "execution_count": 13,
   "id": "4414fc3a",
   "metadata": {},
   "outputs": [],
   "source": [
    "del home1.floors"
   ]
  },
  {
   "cell_type": "code",
   "execution_count": 15,
   "id": "0667f3ec",
   "metadata": {},
   "outputs": [],
   "source": [
    "home1.floors = 2"
   ]
  },
  {
   "cell_type": "code",
   "execution_count": 16,
   "id": "f9b47e7f",
   "metadata": {},
   "outputs": [
    {
     "data": {
      "text/plain": [
       "2"
      ]
     },
     "execution_count": 16,
     "metadata": {},
     "output_type": "execute_result"
    }
   ],
   "source": [
    "home1.floors"
   ]
  },
  {
   "cell_type": "code",
   "execution_count": 17,
   "id": "6770eb39",
   "metadata": {},
   "outputs": [],
   "source": [
    "home1.bathrooms = 2"
   ]
  },
  {
   "cell_type": "code",
   "execution_count": 21,
   "id": "c4071361",
   "metadata": {},
   "outputs": [
    {
     "data": {
      "text/plain": [
       "<__main__.House at 0x1df7a64ed90>"
      ]
     },
     "execution_count": 21,
     "metadata": {},
     "output_type": "execute_result"
    }
   ],
   "source": [
    "home1"
   ]
  },
  {
   "cell_type": "markdown",
   "id": "5e691549",
   "metadata": {
    "collapsed": true
   },
   "source": [
    "# Map"
   ]
  },
  {
   "cell_type": "code",
   "execution_count": 1,
   "id": "40bcf62e",
   "metadata": {},
   "outputs": [],
   "source": [
    "l = [1,2,3,4,5]\n",
    "\n",
    "def squares(x):\n",
    "    return x*x"
   ]
  },
  {
   "cell_type": "code",
   "execution_count": 2,
   "id": "aecffc77",
   "metadata": {},
   "outputs": [],
   "source": [
    "updated_list = []\n",
    "\n",
    "for i in l:\n",
    "    updated_list.append(squares(i))"
   ]
  },
  {
   "cell_type": "code",
   "execution_count": 3,
   "id": "35fbbd30",
   "metadata": {},
   "outputs": [
    {
     "data": {
      "text/plain": [
       "[1, 4, 9, 16, 25]"
      ]
     },
     "execution_count": 3,
     "metadata": {},
     "output_type": "execute_result"
    }
   ],
   "source": [
    "updated_list"
   ]
  },
  {
   "cell_type": "code",
   "execution_count": 13,
   "id": "23b9511f",
   "metadata": {},
   "outputs": [],
   "source": [
    "updated_list = list(map(squares, l))"
   ]
  },
  {
   "cell_type": "code",
   "execution_count": 14,
   "id": "8a45541b",
   "metadata": {},
   "outputs": [
    {
     "data": {
      "text/plain": [
       "[1, 4, 9, 16, 25]"
      ]
     },
     "execution_count": 14,
     "metadata": {},
     "output_type": "execute_result"
    }
   ],
   "source": [
    "updated_list"
   ]
  },
  {
   "cell_type": "code",
   "execution_count": 9,
   "id": "bc3c089b",
   "metadata": {},
   "outputs": [
    {
     "data": {
      "text/plain": [
       "map"
      ]
     },
     "execution_count": 9,
     "metadata": {},
     "output_type": "execute_result"
    }
   ],
   "source": [
    "type(map(squares, l))"
   ]
  },
  {
   "cell_type": "code",
   "execution_count": 17,
   "id": "eff58f19",
   "metadata": {},
   "outputs": [
    {
     "name": "stdout",
     "output_type": "stream",
     "text": [
      "H E L L O   W O R L D "
     ]
    }
   ],
   "source": [
    "s = \"Hello World\"\n",
    "\n",
    "def upper_str(x):\n",
    "    return x.upper()\n",
    "\n",
    "s = map(upper_str, s)\n",
    "for i in s:\n",
    "    print(i, end=\" \")"
   ]
  },
  {
   "cell_type": "code",
   "execution_count": 18,
   "id": "2c817d5a",
   "metadata": {},
   "outputs": [],
   "source": [
    "s = \"Hello World\"\n",
    "s = map(lambda x: x.upper(),s)"
   ]
  },
  {
   "cell_type": "code",
   "execution_count": 19,
   "id": "d9b6be84",
   "metadata": {},
   "outputs": [
    {
     "name": "stdout",
     "output_type": "stream",
     "text": [
      "H E L L O   W O R L D "
     ]
    }
   ],
   "source": [
    "for i in s:\n",
    "    print(i, end= \" \")"
   ]
  },
  {
   "cell_type": "markdown",
   "id": "5c40ba34",
   "metadata": {},
   "source": [
    "## Lambda"
   ]
  },
  {
   "cell_type": "code",
   "execution_count": 20,
   "id": "a4baac57",
   "metadata": {},
   "outputs": [],
   "source": [
    "# syntax\n",
    "# lambda expression: args"
   ]
  },
  {
   "cell_type": "code",
   "execution_count": 21,
   "id": "fdf95abf",
   "metadata": {},
   "outputs": [],
   "source": [
    "s = lambda x: x*x"
   ]
  },
  {
   "cell_type": "code",
   "execution_count": 24,
   "id": "b8aeb83f",
   "metadata": {},
   "outputs": [
    {
     "data": {
      "text/plain": [
       "400"
      ]
     },
     "execution_count": 24,
     "metadata": {},
     "output_type": "execute_result"
    }
   ],
   "source": [
    "s(20)"
   ]
  },
  {
   "cell_type": "code",
   "execution_count": 25,
   "id": "b3f25773",
   "metadata": {},
   "outputs": [],
   "source": [
    "sum_num = lambda x,y : x+y"
   ]
  },
  {
   "cell_type": "code",
   "execution_count": 26,
   "id": "9ba80f5e",
   "metadata": {},
   "outputs": [
    {
     "data": {
      "text/plain": [
       "6"
      ]
     },
     "execution_count": 26,
     "metadata": {},
     "output_type": "execute_result"
    }
   ],
   "source": [
    "sum_num(2,4)"
   ]
  },
  {
   "cell_type": "markdown",
   "id": "be938992",
   "metadata": {},
   "source": [
    "## List Comprehension"
   ]
  },
  {
   "cell_type": "code",
   "execution_count": 27,
   "id": "1bc33130",
   "metadata": {},
   "outputs": [],
   "source": [
    "l =[]\n",
    "for i in range(10):\n",
    "    l.append(i)"
   ]
  },
  {
   "cell_type": "code",
   "execution_count": 28,
   "id": "4ca341a1",
   "metadata": {},
   "outputs": [
    {
     "data": {
      "text/plain": [
       "[0, 1, 2, 3, 4, 5, 6, 7, 8, 9]"
      ]
     },
     "execution_count": 28,
     "metadata": {},
     "output_type": "execute_result"
    }
   ],
   "source": [
    "l"
   ]
  },
  {
   "cell_type": "code",
   "execution_count": 29,
   "id": "8aba29c6",
   "metadata": {},
   "outputs": [],
   "source": [
    "# for shorter syntax\n",
    "l = [x for x in range(10)  ]"
   ]
  },
  {
   "cell_type": "code",
   "execution_count": 35,
   "id": "35c9c344",
   "metadata": {},
   "outputs": [],
   "source": [
    "l = [x for x in range(10) if x%2==0]"
   ]
  },
  {
   "cell_type": "code",
   "execution_count": 36,
   "id": "68d9c4e5",
   "metadata": {},
   "outputs": [
    {
     "data": {
      "text/plain": [
       "[0, 2, 4, 6, 8]"
      ]
     },
     "execution_count": 36,
     "metadata": {},
     "output_type": "execute_result"
    }
   ],
   "source": [
    "l"
   ]
  },
  {
   "cell_type": "code",
   "execution_count": 33,
   "id": "5fc00cc5",
   "metadata": {},
   "outputs": [],
   "source": [
    "string_l = [\"odd\" if x%2!=0 else \"even\" for x in l]"
   ]
  },
  {
   "cell_type": "code",
   "execution_count": 34,
   "id": "3abc5f19",
   "metadata": {},
   "outputs": [
    {
     "data": {
      "text/plain": [
       "['even', 'odd', 'even', 'odd', 'even', 'odd', 'even', 'odd', 'even', 'odd']"
      ]
     },
     "execution_count": 34,
     "metadata": {},
     "output_type": "execute_result"
    }
   ],
   "source": [
    "string_l"
   ]
  }
 ],
 "metadata": {
  "kernelspec": {
   "display_name": "Python 3 (ipykernel)",
   "language": "python",
   "name": "python3"
  },
  "language_info": {
   "codemirror_mode": {
    "name": "ipython",
    "version": 3
   },
   "file_extension": ".py",
   "mimetype": "text/x-python",
   "name": "python",
   "nbconvert_exporter": "python",
   "pygments_lexer": "ipython3",
   "version": "3.11.5"
  }
 },
 "nbformat": 4,
 "nbformat_minor": 5
}
